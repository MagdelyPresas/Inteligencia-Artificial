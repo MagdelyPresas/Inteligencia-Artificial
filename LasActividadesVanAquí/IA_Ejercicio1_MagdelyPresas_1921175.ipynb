{
  "nbformat": 4,
  "nbformat_minor": 0,
  "metadata": {
    "colab": {
      "name": "IA_Ejercicio1_MagdelyPresas_1921175",
      "provenance": []
    },
    "kernelspec": {
      "name": "python3",
      "display_name": "Python 3"
    },
    "language_info": {
      "name": "python"
    }
  },
  "cells": [
    {
      "cell_type": "code",
      "execution_count": null,
      "metadata": {
        "id": "oq_Cr7GlfzvV"
      },
      "outputs": [],
      "source": [
        "#Actividad 2.- Ejercicios en Python\n",
        "#María Magdely Presas Huerta    Matrícula:1921175     Hora: N4\n"
      ]
    },
    {
      "cell_type": "code",
      "source": [
        "#Ejercicio 1\n",
        "nom=input(\"Ingresa tu nombre: \") #Se utiliza la función input \n",
        "a=\"Ana\"\n",
        "b=\"Pedro\"\n",
        "c=\"Juan\"\n",
        "if nom==a or nom==b or nom==c:\n",
        "  print(\"No se permite este nombre\")\n",
        "else: \n",
        "  print(\"Hola\",nom)\n",
        "\n"
      ],
      "metadata": {
        "colab": {
          "base_uri": "https://localhost:8080/"
        },
        "id": "VcvFXC7yg1K5",
        "outputId": "169d3ce8-64a6-4726-a5b3-318a3a7e23a7"
      },
      "execution_count": null,
      "outputs": [
        {
          "output_type": "stream",
          "name": "stdout",
          "text": [
            "Ingresa tu nombre: Ana\n",
            "No se permite este nombre\n"
          ]
        }
      ]
    },
    {
      "cell_type": "markdown",
      "source": [
        ""
      ],
      "metadata": {
        "id": "7kdOyQJUrqXj"
      }
    },
    {
      "cell_type": "code",
      "source": [
        "#Ejercicio 2\n",
        "lista=[1,2,3,4,5,6,7]\n",
        "print(lista)\n",
        "print(lista[-1]) #El índice -1 se refiere al último elemento de la lista\n",
        "lista.reverse() #Indica que se revierta el orden de la lista \n",
        "print(lista)"
      ],
      "metadata": {
        "colab": {
          "base_uri": "https://localhost:8080/"
        },
        "id": "seraMg3XkTDE",
        "outputId": "4291e97d-185c-40c4-f161-5c00b4a65300"
      },
      "execution_count": null,
      "outputs": [
        {
          "output_type": "stream",
          "name": "stdout",
          "text": [
            "[1, 2, 3, 4, 5, 6, 7]\n",
            "7\n",
            "[7, 6, 5, 4, 3, 2, 1]\n"
          ]
        }
      ]
    },
    {
      "cell_type": "code",
      "source": [
        "#Ejercicio 3 \n",
        "lista=[\"Hola\", \"a\",\"todos\",\"esto\",\"es\",\"un\",\"marco\"]\n",
        "print(\"************\")\n",
        "for tXt in lista: \n",
        "  print(\"*\"+ tXt.ljust(10,\" \") + \"*\") #Alinea la cadena a la izquierda, utilizando un carácter específico como carácter de relleno.\n",
        "print(\"************\")"
      ],
      "metadata": {
        "colab": {
          "base_uri": "https://localhost:8080/"
        },
        "id": "Nd4T6k40l10O",
        "outputId": "48a1acb3-9cf9-4eb5-b73e-4666b99f8746"
      },
      "execution_count": 12,
      "outputs": [
        {
          "output_type": "stream",
          "name": "stdout",
          "text": [
            "************\n",
            "*Hola      *\n",
            "*a         *\n",
            "*todos     *\n",
            "*esto      *\n",
            "*es        *\n",
            "*un        *\n",
            "*marco     *\n",
            "************\n"
          ]
        }
      ]
    }
  ]
}